{
  "cells": [
    {
      "cell_type": "markdown",
      "metadata": {
        "id": "view-in-github",
        "colab_type": "text"
      },
      "source": [
        "<a href=\"https://colab.research.google.com/github/Xuanyiyiren/Trial-repository/blob/main/Particle_Physics_Homework.ipynb\" target=\"_parent\"><img src=\"https://colab.research.google.com/assets/colab-badge.svg\" alt=\"Open In Colab\"/></a>"
      ]
    },
    {
      "cell_type": "code",
      "source": [
        "pip install astropy"
      ],
      "metadata": {
        "colab": {
          "base_uri": "https://localhost:8080/"
        },
        "id": "KqtmnQBD8gb3",
        "outputId": "f177199e-d67d-417a-8998-8df4a36bfb7d"
      },
      "execution_count": 2,
      "outputs": [
        {
          "output_type": "stream",
          "name": "stdout",
          "text": [
            "Requirement already satisfied: astropy in /usr/local/lib/python3.10/dist-packages (5.3.4)\n",
            "Requirement already satisfied: numpy<2,>=1.21 in /usr/local/lib/python3.10/dist-packages (from astropy) (1.25.2)\n",
            "Requirement already satisfied: pyerfa>=2.0 in /usr/local/lib/python3.10/dist-packages (from astropy) (2.0.1.1)\n",
            "Requirement already satisfied: PyYAML>=3.13 in /usr/local/lib/python3.10/dist-packages (from astropy) (6.0.1)\n",
            "Requirement already satisfied: packaging>=19.0 in /usr/local/lib/python3.10/dist-packages (from astropy) (24.0)\n"
          ]
        }
      ]
    },
    {
      "cell_type": "code",
      "source": [
        "import astropy.units as units\n",
        "import astropy.constants as const"
      ],
      "metadata": {
        "id": "x9yj7Kef8E5i"
      },
      "execution_count": 3,
      "outputs": []
    },
    {
      "cell_type": "markdown",
      "source": [
        "# Exercise 2\n",
        "Convert $1\\,\\mathrm{fm}$ to $\\mathrm{GeV}$ and $1\\,\\mathrm{GeV/fm}$ to SI"
      ],
      "metadata": {
        "id": "H-MSUmg98HQY"
      }
    },
    {
      "cell_type": "code",
      "source": [
        "(1*units.fm/(const.hbar*const.c)).si.to('GeV^-1')"
      ],
      "metadata": {
        "colab": {
          "base_uri": "https://localhost:8080/",
          "height": 38
        },
        "id": "GLWpS1Cp8r8Z",
        "outputId": "efcf7987-e015-4206-8848-3f57c5312431"
      },
      "execution_count": 20,
      "outputs": [
        {
          "output_type": "execute_result",
          "data": {
            "text/plain": [
              "<Quantity 5.06773072 1 / GeV>"
            ],
            "text/latex": "$5.0677307 \\; \\mathrm{\\frac{1}{GeV}}$"
          },
          "metadata": {},
          "execution_count": 20
        }
      ]
    },
    {
      "cell_type": "code",
      "source": [
        "(1*units.GeV/units.fm).si"
      ],
      "metadata": {
        "colab": {
          "base_uri": "https://localhost:8080/",
          "height": 38
        },
        "id": "1m_Hfku5-rF7",
        "outputId": "9e697e0c-90d8-4312-9fe1-43f3005413a8"
      },
      "execution_count": 23,
      "outputs": [
        {
          "output_type": "execute_result",
          "data": {
            "text/plain": [
              "<Quantity 160217.6634 J / m>"
            ],
            "text/latex": "$160217.66 \\; \\mathrm{\\frac{J}{m}}$"
          },
          "metadata": {},
          "execution_count": 23
        }
      ]
    },
    {
      "cell_type": "markdown",
      "source": [
        "# Exercuse 3\n"
      ],
      "metadata": {
        "id": "jLMT64Dq-gRH"
      }
    },
    {
      "cell_type": "code",
      "source": [
        "(938.3*units.MeV/const.c**2).si"
      ],
      "metadata": {
        "colab": {
          "base_uri": "https://localhost:8080/",
          "height": 37
        },
        "id": "pL_v_FSw-fNy",
        "outputId": "ed65b2f5-432b-491d-9810-6bc7a5161d41"
      },
      "execution_count": 27,
      "outputs": [
        {
          "output_type": "execute_result",
          "data": {
            "text/plain": [
              "<Quantity 1.67267168e-27 kg>"
            ],
            "text/latex": "$1.6726717 \\times 10^{-27} \\; \\mathrm{kg}$"
          },
          "metadata": {},
          "execution_count": 27
        }
      ]
    }
  ],
  "metadata": {
    "kernelspec": {
      "display_name": "drawer",
      "language": "python",
      "name": "python3"
    },
    "language_info": {
      "codemirror_mode": {
        "name": "ipython",
        "version": 3
      },
      "file_extension": ".py",
      "mimetype": "text/x-python",
      "name": "python",
      "nbconvert_exporter": "python",
      "pygments_lexer": "ipython3",
      "version": "3.12.1"
    },
    "colab": {
      "provenance": [],
      "include_colab_link": true
    }
  },
  "nbformat": 4,
  "nbformat_minor": 0
}