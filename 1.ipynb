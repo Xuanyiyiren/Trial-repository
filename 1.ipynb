{
 "cells": [
  {
   "cell_type": "markdown",
   "metadata": {},
   "source": [
    "<iframe\n",
    "        src=\"//player.bilibili.com/player.html?aid=325421622&bvid=BV1aw411G73J&cid=1384297956&p=1\"\n",
    "        width=\"500\"\n",
    "        height=\"450\"\n",
    "        frameborder=\"0\"\n",
    "        allowfullscreen>\n",
    "</iframe>"
   ]
  }
 ],
 "metadata": {
  "kernelspec": {
   "display_name": "base",
   "language": "python",
   "name": "python3"
  },
  "language_info": {
   "codemirror_mode": {
    "name": "ipython",
    "version": 3
   },
   "file_extension": ".py",
   "mimetype": "text/x-python",
   "name": "python",
   "nbconvert_exporter": "python",
   "pygments_lexer": "ipython3",
   "version": "3.9.13"
  }
 },
 "nbformat": 4,
 "nbformat_minor": 2
}
