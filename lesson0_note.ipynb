{
 "cells": [
  {
   "cell_type": "code",
   "execution_count": 30,
   "metadata": {},
   "outputs": [],
   "source": [
    "import numpy as np\n",
    "import matplotlib.pyplot as plt\n",
    "import scipy as sp\n",
    "from scipy import constants"
   ]
  },
  {
   "cell_type": "markdown",
   "metadata": {},
   "source": [
    "**`scipy.constants` module has some physical constants**"
   ]
  },
  {
   "cell_type": "code",
   "execution_count": 31,
   "metadata": {},
   "outputs": [
    {
     "name": "stdout",
     "output_type": "stream",
     "text": [
      "Wien displacement law constant (0.0028977685, 'm K', 5.1e-09)\n",
      "atomic unit of 1st hyperpolarizablity (3.20636151e-53, 'C^3 m^3 J^-2', 2.8e-60)\n",
      "atomic unit of 2nd hyperpolarizablity (6.2353808e-65, 'C^4 m^4 J^-3', 1.1e-71)\n",
      "atomic unit of electric dipole moment (8.47835309e-30, 'C m', 7.3e-37)\n",
      "atomic unit of electric polarizablity (1.648777274e-41, 'C^2 m^2 J^-1', 1.6e-49)\n",
      "atomic unit of electric quadrupole moment (4.48655124e-40, 'C m^2', 3.9e-47)\n",
      "atomic unit of magn. dipole moment (1.8548019e-23, 'J T^-1', 1.6e-30)\n",
      "atomic unit of magn. flux density (235051.756758, 'T', 7.1e-05)\n",
      "deuteron magn. moment (4.33073482e-27, 'J T^-1', 3.8e-34)\n",
      "deuteron magn. moment to Bohr magneton ratio (0.0004669754567, '', 5e-12)\n",
      "deuteron magn. moment to nuclear magneton ratio (0.8574382329, '', 9.2e-09)\n",
      "deuteron-electron magn. moment ratio (-0.0004664345548, '', 5e-12)\n",
      "deuteron-proton magn. moment ratio (0.3070122084, '', 4.5e-09)\n",
      "deuteron-neutron magn. moment ratio (-0.44820652, '', 1.1e-07)\n",
      "electron gyromagn. ratio (176085963023.0, 's^-1 T^-1', 53.0)\n",
      "electron gyromagn. ratio over 2 pi (28024.9532, 'MHz T^-1', 0.0024)\n",
      "electron magn. moment (-9.28476412e-24, 'J T^-1', 8e-31)\n",
      "electron magn. moment to Bohr magneton ratio (-1.0011596521859, '', 3.8e-12)\n",
      "electron magn. moment to nuclear magneton ratio (-1838.28197107, '', 8.5e-07)\n",
      "electron magn. moment anomaly (0.0011596521859, '', 3.8e-12)\n",
      "electron to shielded proton magn. moment ratio (-658.2275956, '', 7.1e-06)\n",
      "electron to shielded helion magn. moment ratio (864.058255, '', 1e-05)\n",
      "electron-deuteron magn. moment ratio (-2143.923493, '', 2.3e-05)\n",
      "electron-muon magn. moment ratio (206.7669894, '', 5.4e-06)\n",
      "electron-neutron magn. moment ratio (960.9205, '', 0.00023)\n",
      "electron-proton magn. moment ratio (-658.2106862, '', 6.6e-06)\n",
      "magn. constant (1.2566370614e-06, 'N A^-2', 0.0)\n",
      "magn. flux quantum (2.067833848e-15, 'Wb', 0.0)\n",
      "muon magn. moment (-4.49044799e-26, 'J T^-1', 4e-33)\n",
      "muon magn. moment to Bohr magneton ratio (-0.00484197045, '', 1.3e-10)\n",
      "muon magn. moment to nuclear magneton ratio (-8.89059698, '', 2.3e-07)\n",
      "muon-proton magn. moment ratio (-3.183345118, '', 8.9e-08)\n",
      "neutron gyromagn. ratio (183247171.0, 's^-1 T^-1', 43.0)\n",
      "neutron gyromagn. ratio over 2 pi (29.164695, 'MHz T^-1', 7.3e-06)\n",
      "neutron magn. moment (-9.6623645e-27, 'J T^-1', 2.4e-33)\n",
      "neutron magn. moment to Bohr magneton ratio (-0.00104187563, '', 2.5e-10)\n",
      "neutron magn. moment to nuclear magneton ratio (-1.91304273, '', 4.5e-07)\n",
      "neutron to shielded proton magn. moment ratio (-0.68499694, '', 1.6e-07)\n",
      "neutron-electron magn. moment ratio (0.00104066882, '', 2.5e-10)\n",
      "neutron-proton magn. moment ratio (-0.68497934, '', 1.6e-07)\n",
      "proton gyromagn. ratio (267522187.44, 's^-1 T^-1', 0.11)\n",
      "proton gyromagn. ratio over 2 pi (42.5774813, 'MHz T^-1', 3.7e-06)\n",
      "proton magn. moment (1.41060671e-26, 'J T^-1', 1.2e-33)\n",
      "proton magn. moment to Bohr magneton ratio (0.001521032206, '', 1.5e-11)\n",
      "proton magn. moment to nuclear magneton ratio (2.792847351, '', 2.8e-08)\n",
      "proton magn. shielding correction (2.5689e-05, '', 1.1e-08)\n",
      "proton-neutron magn. moment ratio (-1.45989805, '', 3.4e-07)\n",
      "shielded helion gyromagn. ratio (203789456.9, 's^-1 T^-1', 2.4)\n",
      "shielded helion gyromagn. ratio over 2 pi (32.4341015, 'MHz T^-1', 2.8e-06)\n",
      "shielded helion magn. moment (-1.074553024e-26, 'J T^-1', 9.3e-34)\n",
      "shielded helion magn. moment to Bohr magneton ratio (-0.001158671474, '', 1.4e-11)\n",
      "shielded helion magn. moment to nuclear magneton ratio (-2.127497723, '', 2.5e-08)\n",
      "shielded helion to proton magn. moment ratio (-0.761766562, '', 1.2e-08)\n",
      "shielded helion to shielded proton magn. moment ratio (-0.7617861313, '', 3.3e-09)\n",
      "shielded proton magn. moment (1.41057047e-26, 'J T^-1', 1.2e-33)\n",
      "shielded proton magn. moment to Bohr magneton ratio (0.001520993132, '', 1.6e-11)\n",
      "shielded proton magn. moment to nuclear magneton ratio (2.792775604, '', 3e-08)\n",
      "{220} lattice spacing of silicon (1.920155714e-10, 'm', 3.2e-18)\n",
      "lattice spacing of silicon (1.920155762e-10, 'm', 5e-18)\n",
      "alpha particle-electron mass ratio (7294.29954142, '', 2.4e-07)\n",
      "alpha particle mass (6.6446573357e-27, 'kg', 2e-36)\n",
      "alpha particle mass energy equivalent (5.9719201914e-10, 'J', 1.8e-19)\n",
      "alpha particle mass energy equivalent in MeV (3727.3794066, 'MeV', 1.1e-06)\n",
      "alpha particle mass in u (4.001506179127, 'u', 6.3e-11)\n",
      "alpha particle molar mass (0.0040015061777, 'kg mol^-1', 1.2e-12)\n",
      "alpha particle-proton mass ratio (3.97259969009, '', 2.2e-10)\n",
      "Angstrom star (1.00001495e-10, 'm', 9e-17)\n",
      "atomic mass constant (1.6605390666e-27, 'kg', 5e-37)\n",
      "atomic mass constant energy equivalent (1.4924180856e-10, 'J', 4.5e-20)\n",
      "atomic mass constant energy equivalent in MeV (931.49410242, 'MeV', 2.8e-07)\n",
      "atomic mass unit-electron volt relationship (931494102.42, 'eV', 0.28)\n",
      "atomic mass unit-hartree relationship (34231776.874, 'E_h', 0.01)\n",
      "atomic mass unit-hertz relationship (2.25234271871e+23, 'Hz', 68000000000000.0)\n",
      "atomic mass unit-inverse meter relationship (751300661040000.0, 'm^-1', 230000.0)\n",
      "atomic mass unit-joule relationship (1.4924180856e-10, 'J', 4.5e-20)\n",
      "atomic mass unit-kelvin relationship (10809540191600.0, 'K', 3300.0)\n",
      "atomic mass unit-kilogram relationship (1.6605390666e-27, 'kg', 5e-37)\n",
      "atomic unit of 1st hyperpolarizability (3.2063613061e-53, 'C^3 m^3 J^-2', 1.5e-62)\n",
      "atomic unit of 2nd hyperpolarizability (6.2353799905e-65, 'C^4 m^4 J^-3', 3.8e-74)\n",
      "atomic unit of action (1.054571817e-34, 'J s', 0.0)\n",
      "atomic unit of charge (1.602176634e-19, 'C', 0.0)\n",
      "atomic unit of charge density (1081202384570.0, 'C m^-3', 490.0)\n",
      "atomic unit of current (0.00662361823751, 'A', 1.3e-14)\n",
      "atomic unit of electric dipole mom. (8.4783536255e-30, 'C m', 1.3e-39)\n",
      "atomic unit of electric field (514220674763.0, 'V m^-1', 78.0)\n",
      "atomic unit of electric field gradient (9.7173624292e+21, 'V m^-2', 2900000000000.0)\n",
      "atomic unit of electric polarizability (1.64877727436e-41, 'C^2 m^2 J^-1', 5e-51)\n",
      "atomic unit of electric potential (27.211386245988, 'V', 5.3e-11)\n",
      "atomic unit of electric quadrupole mom. (4.4865515246e-40, 'C m^2', 1.4e-49)\n",
      "atomic unit of energy (4.3597447222071e-18, 'J', 8.5e-30)\n",
      "atomic unit of force (8.2387234983e-08, 'N', 1.2e-17)\n",
      "atomic unit of length (5.29177210903e-11, 'm', 8e-21)\n",
      "atomic unit of mag. dipole mom. (1.85480201566e-23, 'J T^-1', 5.6e-33)\n",
      "atomic unit of mag. flux density (235051.756758, 'T', 7.1e-05)\n",
      "atomic unit of magnetizability (7.8910366008e-29, 'J T^-2', 4.8e-38)\n",
      "atomic unit of mass (9.1093837015e-31, 'kg', 2.8e-40)\n",
      "atomic unit of momentum (1.9928519141e-24, 'kg m s^-1', 3e-34)\n",
      "atomic unit of permittivity (1.11265005545e-10, 'F m^-1', 1.7e-20)\n",
      "atomic unit of time (2.4188843265857e-17, 's', 4.7e-29)\n",
      "atomic unit of velocity (2187691.26364, 'm s^-1', 0.00033)\n",
      "Avogadro constant (6.02214076e+23, 'mol^-1', 0.0)\n",
      "Bohr magneton (9.2740100783e-24, 'J T^-1', 2.8e-33)\n",
      "Bohr magneton in eV/T (5.788381806e-05, 'eV T^-1', 1.7e-14)\n",
      "Bohr magneton in Hz/T (13996244936.1, 'Hz T^-1', 4.2)\n",
      "Bohr magneton in inverse meters per tesla (46.68644814, 'm^-1 T^-1', 2.9e-07)\n",
      "Bohr magneton in K/T (0.67171381563, 'K T^-1', 2e-10)\n",
      "Bohr radius (5.29177210903e-11, 'm', 8e-21)\n",
      "Boltzmann constant (1.380649e-23, 'J K^-1', 0.0)\n",
      "Boltzmann constant in eV/K (8.617333262e-05, 'eV K^-1', 0.0)\n",
      "Boltzmann constant in Hz/K (20836619120.0, 'Hz K^-1', 0.0)\n",
      "Boltzmann constant in inverse meters per kelvin (69.503457, 'm^-1 K^-1', 4e-05)\n",
      "characteristic impedance of vacuum (376.73031366686166, 'ohm', 5.61366546036269e-08)\n",
      "classical electron radius (2.8179403262e-15, 'm', 1.3e-24)\n",
      "Compton wavelength (2.42631023867e-12, 'm', 7.3e-22)\n",
      "Compton wavelength over 2 pi (3.8615926764e-13, 'm', 1.8e-22)\n",
      "conductance quantum (7.748091729e-05, 'S', 0.0)\n",
      "conventional value of Josephson constant (483597900000000.0, 'Hz V^-1', 0.0)\n",
      "conventional value of von Klitzing constant (25812.807, 'ohm', 0.0)\n",
      "Cu x unit (1.00207697e-13, 'm', 2.8e-20)\n",
      "deuteron-electron mag. mom. ratio (-0.0004664345551, '', 1.2e-12)\n",
      "deuteron-electron mass ratio (3670.48296788, '', 1.3e-07)\n",
      "deuteron g factor (0.8574382338, '', 2.2e-09)\n",
      "deuteron mag. mom. (4.330735094e-27, 'J T^-1', 1.1e-35)\n",
      "deuteron mag. mom. to Bohr magneton ratio (0.000466975457, '', 1.2e-12)\n",
      "deuteron mag. mom. to nuclear magneton ratio (0.8574382338, '', 2.2e-09)\n",
      "deuteron mass (3.3435837724e-27, 'kg', 1e-36)\n",
      "deuteron mass energy equivalent (3.00506323102e-10, 'J', 9.1e-20)\n",
      "deuteron mass energy equivalent in MeV (1875.61294257, 'MeV', 5.7e-07)\n",
      "deuteron mass in u (2.013553212745, 'u', 4e-11)\n",
      "deuteron molar mass (0.00201355321205, 'kg mol^-1', 6.1e-13)\n",
      "deuteron-neutron mag. mom. ratio (-0.44820653, '', 1.1e-07)\n",
      "deuteron-proton mag. mom. ratio (0.30701220939, '', 7.9e-10)\n",
      "deuteron-proton mass ratio (1.99900750139, '', 1.1e-10)\n",
      "deuteron rms charge radius (2.12799e-15, 'm', 7.4e-19)\n",
      "electric constant (8.8541878128e-12, 'F m^-1', 1.3e-21)\n",
      "electron charge to mass quotient (-175882001076.0, 'C kg^-1', 53.0)\n",
      "electron-deuteron mag. mom. ratio (-2143.9234915, '', 5.6e-06)\n",
      "electron-deuteron mass ratio (0.0002724437107462, '', 9.6e-15)\n",
      "electron g factor (-2.00231930436256, '', 3.5e-13)\n",
      "electron gyromag. ratio (176085963023.0, 's^-1 T^-1', 53.0)\n",
      "electron gyromag. ratio over 2 pi (28024.95164, 'MHz T^-1', 0.00017)\n",
      "electron mag. mom. (-9.2847647043e-24, 'J T^-1', 2.8e-33)\n",
      "electron mag. mom. anomaly (0.00115965218128, '', 1.8e-13)\n",
      "electron mag. mom. to Bohr magneton ratio (-1.00115965218128, '', 1.8e-13)\n",
      "electron mag. mom. to nuclear magneton ratio (-1838.28197188, '', 1.1e-07)\n",
      "electron mass (9.1093837015e-31, 'kg', 2.8e-40)\n",
      "electron mass energy equivalent (8.1871057769e-14, 'J', 2.5e-23)\n",
      "electron mass energy equivalent in MeV (0.51099895, 'MeV', 1.5e-10)\n",
      "electron mass in u (0.000548579909065, 'u', 1.6e-14)\n",
      "electron molar mass (5.4857990888e-07, 'kg mol^-1', 1.7e-16)\n",
      "electron-muon mag. mom. ratio (206.7669883, '', 4.6e-06)\n",
      "electron-muon mass ratio (0.00483633169, '', 1.1e-10)\n",
      "electron-neutron mag. mom. ratio (960.9205, '', 0.00023)\n",
      "electron-neutron mass ratio (0.00054386734424, '', 2.6e-13)\n",
      "electron-proton mag. mom. ratio (-658.21068789, '', 2e-07)\n",
      "electron-proton mass ratio (0.000544617021487, '', 3.3e-14)\n",
      "electron-tau mass ratio (0.000287585, '', 1.9e-08)\n",
      "electron to alpha particle mass ratio (0.0001370933554787, '', 4.5e-15)\n",
      "electron to shielded helion mag. mom. ratio (864.058257, '', 1e-05)\n",
      "electron to shielded proton mag. mom. ratio (-658.2275971, '', 7.2e-06)\n",
      "electron volt (1.602176634e-19, 'J', 0.0)\n",
      "electron volt-atomic mass unit relationship (1.07354410233e-09, 'u', 3.2e-19)\n",
      "electron volt-hartree relationship (0.036749322175655, 'E_h', 7.1e-14)\n",
      "electron volt-hertz relationship (241798924200000.0, 'Hz', 0.0)\n",
      "electron volt-inverse meter relationship (806554.3937, 'm^-1', 0.0)\n",
      "electron volt-joule relationship (1.602176634e-19, 'J', 0.0)\n",
      "electron volt-kelvin relationship (11604.51812, 'K', 0.0)\n",
      "electron volt-kilogram relationship (1.782661921e-36, 'kg', 0.0)\n",
      "elementary charge (1.602176634e-19, 'C', 0.0)\n",
      "elementary charge over h (241798926200000.0, 'A J^-1', 1500000.0)\n",
      "Faraday constant (96485.33212, 'C mol^-1', 0.0)\n",
      "Faraday constant for conventional electric current (96485.3251, 'C_90 mol^-1', 0.0012)\n",
      "Fermi coupling constant (1.1663787e-05, 'GeV^-2', 6e-12)\n",
      "fine-structure constant (0.0072973525693, '', 1.1e-12)\n",
      "first radiation constant (3.741771852e-16, 'W m^2', 0.0)\n",
      "first radiation constant for spectral radiance (1.191042972e-16, 'W m^2 sr^-1', 0.0)\n",
      "hartree-atomic mass unit relationship (2.92126232205e-08, 'u', 8.8e-18)\n",
      "hartree-electron volt relationship (27.211386245988, 'eV', 5.3e-11)\n",
      "Hartree energy (4.3597447222071e-18, 'J', 8.5e-30)\n",
      "Hartree energy in eV (27.211386245988, 'eV', 5.3e-11)\n",
      "hartree-hertz relationship (6579683920502000.0, 'Hz', 13000.0)\n",
      "hartree-inverse meter relationship (21947463.13632, 'm^-1', 4.3e-05)\n",
      "hartree-joule relationship (4.3597447222071e-18, 'J', 8.5e-30)\n",
      "hartree-kelvin relationship (315775.02480407, 'K', 6.1e-07)\n",
      "hartree-kilogram relationship (4.8508702095432e-35, 'kg', 9.4e-47)\n",
      "helion-electron mass ratio (5495.88528007, '', 2.4e-07)\n",
      "helion mass (5.0064127796e-27, 'kg', 1.5e-36)\n",
      "helion mass energy equivalent (4.4995394125e-10, 'J', 1.4e-19)\n",
      "helion mass energy equivalent in MeV (2808.39160743, 'MeV', 8.5e-07)\n",
      "helion mass in u (3.014932247175, 'u', 9.7e-11)\n",
      "helion molar mass (0.00301493224613, 'kg mol^-1', 9.1e-13)\n",
      "helion-proton mass ratio (2.99315267167, '', 1.3e-10)\n",
      "hertz-atomic mass unit relationship (4.4398216652e-24, 'u', 1.3e-33)\n",
      "hertz-electron volt relationship (4.135667696e-15, 'eV', 0.0)\n",
      "hertz-hartree relationship (1.519829846057e-16, 'E_h', 2.9e-28)\n",
      "hertz-inverse meter relationship (3.3356409519815204e-09, 'm^-1', 0.0)\n",
      "hertz-joule relationship (6.62607015e-34, 'J', 0.0)\n",
      "hertz-kelvin relationship (4.799243073e-11, 'K', 0.0)\n",
      "hertz-kilogram relationship (7.372497323e-51, 'kg', 0.0)\n",
      "inverse fine-structure constant (137.035999084, '', 2.1e-08)\n",
      "inverse meter-atomic mass unit relationship (1.3310250501e-15, 'u', 4e-25)\n",
      "inverse meter-electron volt relationship (1.239841984e-06, 'eV', 0.0)\n",
      "inverse meter-hartree relationship (4.556335252912e-08, 'E_h', 8.8e-20)\n",
      "inverse meter-hertz relationship (299792458.0, 'Hz', 0.0)\n",
      "inverse meter-joule relationship (1.986445857e-25, 'J', 0.0)\n",
      "inverse meter-kelvin relationship (0.01438776877, 'K', 0.0)\n",
      "inverse meter-kilogram relationship (2.210219094e-42, 'kg', 0.0)\n",
      "inverse of conductance quantum (12906.40372, 'ohm', 0.0)\n",
      "Josephson constant (483597848400000.0, 'Hz V^-1', 0.0)\n",
      "joule-atomic mass unit relationship (6700535256.5, 'u', 2.0)\n",
      "joule-electron volt relationship (6.241509074e+18, 'eV', 0.0)\n",
      "joule-hartree relationship (2.2937122783963e+17, 'E_h', 450000.0)\n",
      "joule-hertz relationship (1.509190179e+33, 'Hz', 0.0)\n",
      "joule-inverse meter relationship (5.034116567e+24, 'm^-1', 0.0)\n",
      "joule-kelvin relationship (7.242970516e+22, 'K', 0.0)\n",
      "joule-kilogram relationship (1.1126500560536185e-17, 'kg', 0.0)\n",
      "kelvin-atomic mass unit relationship (9.2510873014e-14, 'u', 2.8e-23)\n",
      "kelvin-electron volt relationship (8.617333262e-05, 'eV', 0.0)\n",
      "kelvin-hartree relationship (3.1668115634556e-06, 'E_h', 6.1e-18)\n",
      "kelvin-hertz relationship (20836619120.0, 'Hz', 0.0)\n",
      "kelvin-inverse meter relationship (69.50348004, 'm^-1', 0.0)\n",
      "kelvin-joule relationship (1.380649e-23, 'J', 0.0)\n",
      "kelvin-kilogram relationship (1.536179187e-40, 'kg', 0.0)\n",
      "kilogram-atomic mass unit relationship (6.0221407621e+26, 'u', 1.8e+17)\n",
      "kilogram-electron volt relationship (5.609588603e+35, 'eV', 0.0)\n",
      "kilogram-hartree relationship (2.0614857887409e+34, 'E_h', 4e+22)\n",
      "kilogram-hertz relationship (1.356392489e+50, 'Hz', 0.0)\n",
      "kilogram-inverse meter relationship (4.524438335e+41, 'm^-1', 0.0)\n",
      "kilogram-joule relationship (8.987551787368176e+16, 'J', 0.0)\n",
      "kilogram-kelvin relationship (6.50965726e+39, 'K', 0.0)\n",
      "lattice parameter of silicon (5.431020511e-10, 'm', 8.9e-18)\n",
      "Loschmidt constant (273.15 K, 101.325 kPa) (2.686780111e+25, 'm^-3', 0.0)\n",
      "mag. constant (1.25663706212e-06, 'N A^-2', 1.9e-16)\n",
      "mag. flux quantum (2.067833848e-15, 'Wb', 0.0)\n",
      "molar gas constant (8.314462618, 'J mol^-1 K^-1', 0.0)\n",
      "molar mass constant (0.00099999999965, 'kg mol^-1', 3e-13)\n",
      "molar mass of carbon-12 (0.0119999999958, 'kg mol^-1', 3.6e-12)\n",
      "molar Planck constant (3.990312712e-10, 'J Hz^-1 mol^-1', 0.0)\n",
      "molar Planck constant times c (0.119626565582, 'J m mol^-1', 5.4e-11)\n",
      "molar volume of ideal gas (273.15 K, 100 kPa) (0.02271095464, 'm^3 mol^-1', 0.0)\n",
      "molar volume of ideal gas (273.15 K, 101.325 kPa) (0.02241396954, 'm^3 mol^-1', 0.0)\n",
      "molar volume of silicon (1.205883199e-05, 'm^3 mol^-1', 6e-13)\n",
      "Mo x unit (1.00209952e-13, 'm', 5.3e-20)\n",
      "muon Compton wavelength (1.17344411e-14, 'm', 2.6e-22)\n",
      "muon Compton wavelength over 2 pi (1.867594308e-15, 'm', 4.2e-23)\n",
      "muon-electron mass ratio (206.768283, '', 4.6e-06)\n",
      "muon g factor (-2.0023318418, '', 1.3e-09)\n",
      "muon mag. mom. (-4.4904483e-26, 'J T^-1', 1e-33)\n",
      "muon mag. mom. anomaly (0.00116592089, '', 6.3e-10)\n",
      "muon mag. mom. to Bohr magneton ratio (-0.00484197047, '', 1.1e-10)\n",
      "muon mag. mom. to nuclear magneton ratio (-8.89059703, '', 2e-07)\n",
      "muon mass (1.883531627e-28, 'kg', 4.2e-36)\n",
      "muon mass energy equivalent (1.692833804e-11, 'J', 3.8e-19)\n",
      "muon mass energy equivalent in MeV (105.6583755, 'MeV', 2.3e-06)\n",
      "muon mass in u (0.1134289259, 'u', 2.5e-09)\n",
      "muon molar mass (0.0001134289259, 'kg mol^-1', 2.5e-12)\n",
      "muon-neutron mass ratio (0.112454517, '', 2.5e-09)\n",
      "muon-proton mag. mom. ratio (-3.183345142, '', 7.1e-08)\n",
      "muon-proton mass ratio (0.1126095264, '', 2.5e-09)\n",
      "muon-tau mass ratio (0.0594635, '', 4e-06)\n",
      "natural unit of action (1.054571817e-34, 'J s', 0.0)\n",
      "natural unit of action in eV s (6.582119569e-16, 'eV s', 0.0)\n",
      "natural unit of energy (8.1871057769e-14, 'J', 2.5e-23)\n",
      "natural unit of energy in MeV (0.51099895, 'MeV', 1.5e-10)\n",
      "natural unit of length (3.8615926796e-13, 'm', 1.2e-22)\n",
      "natural unit of mass (9.1093837015e-31, 'kg', 2.8e-40)\n",
      "natural unit of momentum (2.730924488e-22, 'kg m s^-1', 3.4e-30)\n",
      "natural unit of momentum in MeV/c (0.5109989461, 'MeV/c', 3.1e-09)\n",
      "natural unit of time (1.28808866819e-21, 's', 3.9e-31)\n",
      "natural unit of velocity (299792458.0, 'm s^-1', 0.0)\n",
      "neutron Compton wavelength (1.31959090581e-15, 'm', 7.5e-25)\n",
      "neutron Compton wavelength over 2 pi (2.1001941536e-16, 'm', 1.4e-25)\n",
      "neutron-electron mag. mom. ratio (0.00104066882, '', 2.5e-10)\n",
      "neutron-electron mass ratio (1838.68366173, '', 8.9e-07)\n",
      "neutron g factor (-3.82608545, '', 9e-07)\n",
      "neutron gyromag. ratio (183247171.0, 's^-1 T^-1', 43.0)\n",
      "neutron gyromag. ratio over 2 pi (29.1646933, 'MHz T^-1', 6.9e-06)\n",
      "neutron mag. mom. (-9.6623651e-27, 'J T^-1', 2.3e-33)\n",
      "neutron mag. mom. to Bohr magneton ratio (-0.00104187563, '', 2.5e-10)\n",
      "neutron mag. mom. to nuclear magneton ratio (-1.91304273, '', 4.5e-07)\n",
      "neutron mass (1.67492749804e-27, 'kg', 9.5e-37)\n",
      "neutron mass energy equivalent (1.50534976287e-10, 'J', 8.6e-20)\n",
      "neutron mass energy equivalent in MeV (939.56542052, 'MeV', 5.4e-07)\n",
      "neutron mass in u (1.00866491595, 'u', 4.9e-10)\n",
      "neutron molar mass (0.0010086649156, 'kg mol^-1', 5.7e-13)\n",
      "neutron-muon mass ratio (8.89248406, '', 2e-07)\n",
      "neutron-proton mag. mom. ratio (-0.68497934, '', 1.6e-07)\n",
      "neutron-proton mass ratio (1.00137841931, '', 4.9e-10)\n",
      "neutron-tau mass ratio (0.528779, '', 3.6e-05)\n",
      "neutron to shielded proton mag. mom. ratio (-0.68499694, '', 1.6e-07)\n",
      "Newtonian constant of gravitation (6.6743e-11, 'm^3 kg^-1 s^-2', 1.5e-15)\n",
      "Newtonian constant of gravitation over h-bar c (6.70883e-39, '(GeV/c^2)^-2', 1.5e-43)\n",
      "nuclear magneton (5.0507837461e-27, 'J T^-1', 1.5e-36)\n",
      "nuclear magneton in eV/T (3.15245125844e-08, 'eV T^-1', 9.6e-18)\n",
      "nuclear magneton in inverse meters per tesla (0.02542623432, 'm^-1 T^-1', 1.6e-10)\n",
      "nuclear magneton in K/T (0.00036582677756, 'K T^-1', 1.1e-13)\n",
      "nuclear magneton in MHz/T (7.6225932291, 'MHz T^-1', 2.3e-09)\n",
      "Planck constant (6.62607015e-34, 'J Hz^-1', 0.0)\n",
      "Planck constant in eV s (4.135667662e-15, 'eV s', 2.5e-23)\n",
      "Planck constant over 2 pi (1.0545718e-34, 'J s', 1.3e-42)\n",
      "Planck constant over 2 pi in eV s (6.582119514e-16, 'eV s', 4e-24)\n",
      "Planck constant over 2 pi times c in MeV fm (197.3269788, 'MeV fm', 1.2e-06)\n",
      "Planck length (1.616255e-35, 'm', 1.8e-40)\n",
      "Planck mass (2.176434e-08, 'kg', 2.4e-13)\n",
      "Planck mass energy equivalent in GeV (1.22089e+19, 'GeV', 140000000000000.0)\n",
      "Planck temperature (1.416784e+32, 'K', 1.6e+27)\n",
      "Planck time (5.391247e-44, 's', 6e-49)\n",
      "proton charge to mass quotient (95788331.56, 'C kg^-1', 0.029)\n",
      "proton Compton wavelength (1.32140985539e-15, 'm', 4e-25)\n",
      "proton Compton wavelength over 2 pi (2.10308910109e-16, 'm', 9.7e-26)\n",
      "proton-electron mass ratio (1836.15267343, '', 1.1e-07)\n",
      "proton g factor (5.5856946893, '', 1.6e-09)\n",
      "proton gyromag. ratio (267522187.44, 's^-1 T^-1', 0.11)\n",
      "proton gyromag. ratio over 2 pi (42.57747892, 'MHz T^-1', 2.9e-07)\n",
      "proton mag. mom. (1.41060679736e-26, 'J T^-1', 6e-36)\n",
      "proton mag. mom. to Bohr magneton ratio (0.0015210322023, '', 4.6e-13)\n",
      "proton mag. mom. to nuclear magneton ratio (2.79284734463, '', 8.2e-10)\n",
      "proton mag. shielding correction (2.5689e-05, '', 1.1e-08)\n",
      "proton mass (1.67262192369e-27, 'kg', 5.1e-37)\n",
      "proton mass energy equivalent (1.50327761598e-10, 'J', 4.6e-20)\n",
      "proton mass energy equivalent in MeV (938.27208816, 'MeV', 2.9e-07)\n",
      "proton mass in u (1.007276466621, 'u', 5.3e-11)\n",
      "proton molar mass (0.00100727646627, 'kg mol^-1', 3.1e-13)\n",
      "proton-muon mass ratio (8.88024337, '', 2e-07)\n",
      "proton-neutron mag. mom. ratio (-1.45989805, '', 3.4e-07)\n",
      "proton-neutron mass ratio (0.99862347812, '', 4.9e-10)\n",
      "proton rms charge radius (8.414e-16, 'm', 1.9e-18)\n",
      "proton-tau mass ratio (0.528051, '', 3.6e-05)\n",
      "quantum of circulation (0.00036369475516, 'm^2 s^-1', 1.1e-13)\n",
      "quantum of circulation times 2 (0.00072738951032, 'm^2 s^-1', 2.2e-13)\n",
      "Rydberg constant (10973731.56816, 'm^-1', 2.1e-05)\n",
      "Rydberg constant times c in Hz (3289841960250800.0, 'Hz', 6400.0)\n",
      "Rydberg constant times hc in eV (13.605693122994, 'eV', 2.6e-11)\n",
      "Rydberg constant times hc in J (2.1798723611035e-18, 'J', 4.2e-30)\n",
      "Sackur-Tetrode constant (1 K, 100 kPa) (-1.15170753706, '', 4.5e-10)\n",
      "Sackur-Tetrode constant (1 K, 101.325 kPa) (-1.16487052358, '', 4.5e-10)\n",
      "second radiation constant (0.01438776877, 'm K', 0.0)\n",
      "shielded helion gyromag. ratio (203789456.9, 's^-1 T^-1', 2.4)\n",
      "shielded helion gyromag. ratio over 2 pi (32.43409966, 'MHz T^-1', 4.3e-07)\n",
      "shielded helion mag. mom. (-1.07455309e-26, 'J T^-1', 1.3e-34)\n",
      "shielded helion mag. mom. to Bohr magneton ratio (-0.001158671471, '', 1.4e-11)\n",
      "shielded helion mag. mom. to nuclear magneton ratio (-2.127497719, '', 2.5e-08)\n",
      "shielded helion to proton mag. mom. ratio (-0.7617665618, '', 8.9e-09)\n",
      "shielded helion to shielded proton mag. mom. ratio (-0.7617861313, '', 3.3e-09)\n",
      "shielded proton gyromag. ratio (267515315.1, 's^-1 T^-1', 2.9)\n",
      "shielded proton gyromag. ratio over 2 pi (42.57638507, 'MHz T^-1', 5.3e-07)\n",
      "shielded proton mag. mom. (1.41057056e-26, 'J T^-1', 1.5e-34)\n",
      "shielded proton mag. mom. to Bohr magneton ratio (0.001520993128, '', 1.7e-11)\n",
      "shielded proton mag. mom. to nuclear magneton ratio (2.792775599, '', 3e-08)\n",
      "speed of light in vacuum (299792458.0, 'm s^-1', 0.0)\n",
      "standard acceleration of gravity (9.80665, 'm s^-2', 0.0)\n",
      "standard atmosphere (101325.0, 'Pa', 0.0)\n",
      "Stefan-Boltzmann constant (5.670374419e-08, 'W m^-2 K^-4', 0.0)\n",
      "tau Compton wavelength (6.97771e-16, 'm', 4.7e-20)\n",
      "tau Compton wavelength over 2 pi (1.11056e-16, 'm', 1e-20)\n",
      "tau-electron mass ratio (3477.23, '', 0.23)\n",
      "tau mass (3.16754e-27, 'kg', 2.1e-31)\n",
      "tau mass energy equivalent (2.84684e-10, 'J', 1.9e-14)\n",
      "tau mass energy equivalent in MeV (1776.82, 'MeV', 0.16)\n",
      "tau mass in u (1.90754, 'u', 0.00013)\n",
      "tau molar mass (0.00190754, 'kg mol^-1', 1.3e-07)\n",
      "tau-muon mass ratio (16.817, '', 0.0011)\n",
      "tau-neutron mass ratio (1.89115, '', 0.00013)\n",
      "tau-proton mass ratio (1.89376, '', 0.00013)\n",
      "Thomson cross section (6.6524587321e-29, 'm^2', 6e-38)\n",
      "triton-electron mag. mom. ratio (-0.001620514423, '', 2.1e-11)\n",
      "triton-electron mass ratio (5496.92153573, '', 2.7e-07)\n",
      "triton g factor (5.957924931, '', 1.2e-08)\n",
      "triton mag. mom. (1.5046095202e-26, 'J T^-1', 3e-35)\n",
      "triton mag. mom. to Bohr magneton ratio (0.0016223936651, '', 3.2e-12)\n",
      "triton mag. mom. to nuclear magneton ratio (2.9789624656, '', 5.9e-09)\n",
      "triton mass (5.0073567446e-27, 'kg', 1.5e-36)\n",
      "triton mass energy equivalent (4.500387806e-10, 'J', 1.4e-19)\n",
      "triton mass energy equivalent in MeV (2808.92113298, 'MeV', 8.5e-07)\n",
      "triton mass in u (3.01550071621, 'u', 1.2e-10)\n",
      "triton molar mass (0.00301550071517, 'kg mol^-1', 9.2e-13)\n",
      "triton-neutron mag. mom. ratio (-1.55718553, '', 3.7e-07)\n",
      "triton-proton mag. mom. ratio (1.066639908, '', 1e-08)\n",
      "triton-proton mass ratio (2.99371703414, '', 1.5e-10)\n",
      "unified atomic mass unit (1.6605390666e-27, 'kg', 5e-37)\n",
      "von Klitzing constant (25812.80745, 'ohm', 0.0)\n",
      "weak mixing angle (0.2229, '', 0.0003)\n",
      "Wien frequency displacement law constant (58789257570.0, 'Hz K^-1', 0.0)\n",
      "Wien wavelength displacement law constant (0.002897771955, 'm K', 0.0)\n",
      "atomic unit of mom.um (1.992851882e-24, 'kg m s^-1', 2.4e-32)\n",
      "electron-helion mass ratio (0.0001819543074573, '', 7.9e-15)\n",
      "electron-triton mass ratio (0.0001819200062251, '', 9e-15)\n",
      "helion g factor (-4.255250615, '', 5e-08)\n",
      "helion mag. mom. (-1.074617532e-26, 'J T^-1', 1.3e-34)\n",
      "helion mag. mom. to Bohr magneton ratio (-0.001158740958, '', 1.4e-11)\n",
      "helion mag. mom. to nuclear magneton ratio (-2.127625307, '', 2.5e-08)\n",
      "Loschmidt constant (273.15 K, 100 kPa) (2.651645804e+25, 'm^-3', 0.0)\n",
      "natural unit of mom.um (2.730924488e-22, 'kg m s^-1', 3.4e-30)\n",
      "natural unit of mom.um in MeV/c (0.5109989461, 'MeV/c', 3.1e-09)\n",
      "neutron-proton mass difference (2.30557435e-30, 'kg', 8.2e-37)\n",
      "neutron-proton mass difference energy equivalent (2.07214689e-13, 'J', 7.4e-20)\n",
      "neutron-proton mass difference energy equivalent in MeV (1.29333236, 'MeV', 4.6e-07)\n",
      "neutron-proton mass difference in u (0.00138844933, 'u', 4.9e-10)\n",
      "standard-state pressure (100000.0, 'Pa', 0.0)\n",
      "alpha particle relative atomic mass (4.001506179127, '', 6.3e-11)\n",
      "Bohr magneton in inverse meter per tesla (46.686447783, 'm^-1 T^-1', 1.4e-08)\n",
      "Boltzmann constant in inverse meter per kelvin (69.50348004, 'm^-1 K^-1', 0.0)\n",
      "conventional value of ampere-90 (1.00000008887, 'A', 0.0)\n",
      "conventional value of coulomb-90 (1.00000008887, 'C', 0.0)\n",
      "conventional value of farad-90 (0.9999999822, 'F', 0.0)\n",
      "conventional value of henry-90 (1.00000001779, 'H', 0.0)\n",
      "conventional value of ohm-90 (1.00000001779, 'ohm', 0.0)\n",
      "conventional value of volt-90 (1.00000010666, 'V', 0.0)\n",
      "conventional value of watt-90 (1.00000019553, 'W', 0.0)\n",
      "deuteron relative atomic mass (2.013553212745, '', 4e-11)\n",
      "electron gyromag. ratio in MHz/T (28024.9514242, 'MHz T^-1', 8.5e-06)\n",
      "electron relative atomic mass (0.000548579909065, '', 1.6e-14)\n",
      "elementary charge over h-bar (1519267447000000.0, 'A J^-1', 0.0)\n",
      "helion relative atomic mass (3.014932247175, '', 9.7e-11)\n",
      "helion shielding shift (5.996743e-05, '', 1e-10)\n",
      "hyperfine transition frequency of Cs-133 (9192631770.0, 'Hz', 0.0)\n",
      "lattice spacing of ideal Si (220) (1.920155716e-10, 'm', 3.2e-18)\n",
      "luminous efficacy (683.0, 'lm W^-1', 0.0)\n",
      "neutron gyromag. ratio in MHz/T (29.1646931, 'MHz T^-1', 6.9e-06)\n",
      "neutron relative atomic mass (1.00866491595, '', 4.9e-10)\n",
      "nuclear magneton in inverse meter per tesla (0.0254262341353, 'm^-1 T^-1', 7.8e-12)\n",
      "Planck constant in eV/Hz (4.135667696e-15, 'eV Hz^-1', 0.0)\n",
      "proton gyromag. ratio in MHz/T (42.577478518, 'MHz T^-1', 1.8e-08)\n",
      "proton relative atomic mass (1.007276466621, '', 5.3e-11)\n",
      "reduced Compton wavelength (3.8615926796e-13, 'm', 1.2e-22)\n",
      "reduced muon Compton wavelength (1.867594306e-15, 'm', 4.2e-23)\n",
      "reduced neutron Compton wavelength (2.1001941552e-16, 'm', 1.2e-25)\n",
      "reduced Planck constant (1.054571817e-34, 'J s', 0.0)\n",
      "reduced Planck constant in eV s (6.582119569e-16, 'eV s', 0.0)\n",
      "reduced Planck constant times c in MeV fm (197.3269804, 'MeV fm', 0.0)\n",
      "reduced proton Compton wavelength (2.10308910336e-16, 'm', 6.4e-26)\n",
      "reduced tau Compton wavelength (1.110538e-16, 'm', 7.5e-21)\n",
      "shielded helion gyromag. ratio in MHz/T (32.43409942, 'MHz T^-1', 3.8e-07)\n",
      "shielded proton gyromag. ratio in MHz/T (42.57638474, 'MHz T^-1', 4.6e-07)\n",
      "shielding difference of d and p in HD (2.02e-08, '', 2e-11)\n",
      "shielding difference of t and p in HT (2.414e-08, '', 2e-11)\n",
      "tau energy equivalent (1776.86, 'MeV', 0.12)\n",
      "triton relative atomic mass (3.01550071621, '', 1.2e-10)\n",
      "triton to proton mag. mom. ratio (1.0666399191, '', 2.1e-09)\n",
      "vacuum electric permittivity (8.8541878128e-12, 'F m^-1', 1.3e-21)\n",
      "vacuum mag. permeability (1.25663706212e-06, 'N A^-2', 1.9e-16)\n",
      "W to Z mass ratio (0.88153, '', 0.00017)\n"
     ]
    }
   ],
   "source": [
    "for k,v in constants.physical_constants.items():\n",
    "    print(k,v)"
   ]
  },
  {
   "cell_type": "code",
   "execution_count": 32,
   "metadata": {},
   "outputs": [
    {
     "data": {
      "text/plain": [
       "(1.67262192369e-27, 'kg', 5.1e-37)"
      ]
     },
     "execution_count": 32,
     "metadata": {},
     "output_type": "execute_result"
    }
   ],
   "source": [
    "# proton mass\n",
    "constants.physical_constants['proton mass']"
   ]
  },
  {
   "cell_type": "markdown",
   "metadata": {},
   "source": [
    "**[丁老师的lesson0](https://www.youtube.com/watch?v=gPfvo2VNs54&list=PLo4wAAMJnA1wDQ2ZmTJCaBYdrXqBWUwT5&index=1)完全可以作为科学计算导论**\n",
    "\n",
    "有一些操作我在我的[核电子学实验](https://github.com/Xuanyiyiren/Fundamental-Laboratory-Experiment-in-Nuclear-Electronics/tree/main/some%20useful%20code)中已经做过了，例如曲线拟合什么的就没写。"
   ]
  },
  {
   "cell_type": "markdown",
   "metadata": {},
   "source": [
    "**`scipy.stats`**"
   ]
  },
  {
   "cell_type": "code",
   "execution_count": 33,
   "metadata": {},
   "outputs": [
    {
     "data": {
      "image/png": "[encoded data removed]",
      "text/plain": [
       "<Figure size 640x480 with 1 Axes>"
      ]
     },
     "metadata": {},
     "output_type": "display_data"
    },
    {
     "data": {
      "image/png": "[encoded data removed]",
      "text/plain": [
       "<Figure size 640x480 with 1 Axes>"
      ]
     },
     "metadata": {},
     "output_type": "display_data"
    }
   ],
   "source": [
    "# make gaussian class\n",
    "gaussian=sp.stats.norm\n",
    "x=np.linspace(-5,5,100)\n",
    "pdf=gaussian.pdf(x)\n",
    "plt.plot(x,pdf)\n",
    "plt.show()\n",
    "\n",
    "# draw sample\n",
    "sample = gaussian.rvs(size=100000)\n",
    "plt.hist(sample, bins=80)\n",
    "plt.show()"
   ]
  },
  {
   "cell_type": "markdown",
   "metadata": {},
   "source": [
    "# 假设检验和p值\n",
    "现在有一个样本，假设检验是指做出某种零假设 $H_0$ ，然后认为改假设成立，计算这种条件下这个样本出现的概率，这个概率就是p值。"
   ]
  },
  {
   "cell_type": "code",
   "execution_count": 34,
   "metadata": {},
   "outputs": [
    {
     "name": "stdout",
     "output_type": "stream",
     "text": [
      "NormaltestResult(statistic=0.30508377096437894, pvalue=0.8585229335562478)\n",
      "NormaltestResult(statistic=713.2449517818459, pvalue=1.3207681816909278e-155)\n"
     ]
    }
   ],
   "source": [
    "# normality test\n",
    "\n",
    "# make a normal distribution\n",
    "sample_1=np.random.normal(0,1,1000)\n",
    "\n",
    "print(sp.stats.normaltest(sample_1))\n",
    "\n",
    "sample_2=np.random.uniform(0,10,1000)\n",
    "\n",
    "print(sp.stats.normaltest(sample_2))\n"
   ]
  },
  {
   "cell_type": "markdown",
   "metadata": {},
   "source": [
    "- 如果是正态分布的样本，在正态检验下的p值是 $0.68$ ，很高。\n",
    "- 如果是均匀分布的样本，在正态检验下的p值是非常小的值 $1.4\\times10^-167$ ，说明假设样本是正太分布，样本出现的概率非常小，所以假设不成立，样本不服从正态分布。"
   ]
  },
  {
   "cell_type": "markdown",
   "metadata": {},
   "source": [
    "柯尔莫哥洛夫两样本检验，判断两个样本是否来自同一个分布"
   ]
  },
  {
   "cell_type": "code",
   "execution_count": 35,
   "metadata": {},
   "outputs": [
    {
     "data": {
      "text/plain": [
       "KstestResult(statistic=0.815, pvalue=2.3355825296711457e-64)"
      ]
     },
     "execution_count": 35,
     "metadata": {},
     "output_type": "execute_result"
    }
   ],
   "source": [
    "# ks 2 sample test\n",
    "sample_1=np.random.normal(0,1,100)\n",
    "sample_1=np.random.normal(0,1,100)\n",
    "sp.stats.ks_2samp(sample_1,sample_2)"
   ]
  },
  {
   "cell_type": "code",
   "execution_count": 36,
   "metadata": {},
   "outputs": [
    {
     "data": {
      "text/plain": [
       "KstestResult(statistic=0.045, pvalue=0.989783704290142)"
      ]
     },
     "execution_count": 36,
     "metadata": {},
     "output_type": "execute_result"
    }
   ],
   "source": [
    "sample_1=np.random.normal(0,1,100)\n",
    "sample_1=np.random.uniform(0,10,100)\n",
    "sp.stats.ks_2samp(sample_1,sample_2)"
   ]
  },
  {
   "cell_type": "markdown",
   "metadata": {},
   "source": [
    "# Special functions in scipy"
   ]
  },
  {
   "cell_type": "code",
   "execution_count": 45,
   "metadata": {},
   "outputs": [
    {
     "data": {
      "image/png": "[encoded data removed]",
      "text/plain": [
       "<Figure size 640x480 with 1 Axes>"
      ]
     },
     "metadata": {},
     "output_type": "display_data"
    }
   ],
   "source": [
    "# special function\n",
    "from scipy.special import gamma\n",
    "\n",
    "x=np.linspace(0.1,5,1000)\n",
    "f=gamma(x)\n",
    "plt.plot(x,f)\n",
    "plt.show()"
   ]
  },
  {
   "cell_type": "markdown",
   "metadata": {},
   "source": [
    "# Astropy"
   ]
  },
  {
   "cell_type": "code",
   "execution_count": 60,
   "metadata": {},
   "outputs": [
    {
     "name": "stdout",
     "output_type": "stream",
     "text": [
      "  Name   = Speed of light in vacuum\n",
      "  Value  = 299792458.0\n",
      "  Uncertainty  = 0.0\n",
      "  Unit  = m / s\n",
      "  Reference = CODATA 2018\n",
      "\n",
      "  Name   = Gravitational constant\n",
      "  Value  = 6.6743e-11\n",
      "  Uncertainty  = 1.5e-15\n",
      "  Unit  = m3 / (kg s2)\n",
      "  Reference = CODATA 2018\n"
     ]
    },
    {
     "data": {
      "text/latex": [
       "$6.6743 \\times 10^{-11} \\; \\mathrm{\\frac{m^{3}}{kg\\,s^{2}}}$"
      ],
      "text/plain": [
       "<<class 'astropy.constants.codata2018.CODATA2018'> name='Gravitational constant' value=6.6743e-11 uncertainty=1.5e-15 unit='m3 / (kg s2)' reference='CODATA 2018'>"
      ]
     },
     "execution_count": 60,
     "metadata": {},
     "output_type": "execute_result"
    }
   ],
   "source": [
    "import astropy as ap\n",
    "import astropy.constants as const\n",
    "import astropy.units as units\n",
    "print(const.c)\n",
    "print()\n",
    "print(const.G)\n",
    "const.G"
   ]
  },
  {
   "cell_type": "markdown",
   "metadata": {},
   "source": [
    "astropy可以带单位运算"
   ]
  },
  {
   "cell_type": "code",
   "execution_count": 61,
   "metadata": {},
   "outputs": [
    {
     "data": {
      "text/latex": [
       "$0.020009048 \\; \\mathrm{\\frac{m^{4}}{kg\\,s^{3}}}$"
      ],
      "text/plain": [
       "<Quantity 0.02000905 m4 / (kg s3)>"
      ]
     },
     "execution_count": 61,
     "metadata": {},
     "output_type": "execute_result"
    }
   ],
   "source": [
    "const.G*const.c"
   ]
  },
  {
   "cell_type": "markdown",
   "metadata": {},
   "source": [
    "自定义单位\n",
    "\n",
    "单位转换"
   ]
  },
  {
   "cell_type": "code",
   "execution_count": 66,
   "metadata": {},
   "outputs": [
    {
     "data": {
      "text/latex": [
       "$5000 \\; \\mathrm{g}$"
      ],
      "text/plain": [
       "<Quantity 5000. g>"
      ]
     },
     "metadata": {},
     "output_type": "display_data"
    },
    {
     "data": {
      "text/latex": [
       "$2.5145721 \\times 10^{-30} \\; \\mathrm{M_{\\odot}}$"
      ],
      "text/plain": [
       "<Quantity 2.51457211e-30 solMass>"
      ]
     },
     "metadata": {},
     "output_type": "display_data"
    }
   ],
   "source": [
    "a=5*units.kg\n",
    "display(a.to(units.g))\n",
    "display(a.to(units.Msun))"
   ]
  },
  {
   "cell_type": "markdown",
   "metadata": {},
   "source": [
    "计算地球重力加速度"
   ]
  },
  {
   "cell_type": "code",
   "execution_count": 74,
   "metadata": {},
   "outputs": [
    {
     "data": {
      "text/latex": [
       "$9.7983981 \\; \\mathrm{\\frac{m}{s^{2}}}$"
      ],
      "text/plain": [
       "<Quantity 9.79839813 m / s2>"
      ]
     },
     "execution_count": 74,
     "metadata": {},
     "output_type": "execute_result"
    }
   ],
   "source": [
    "# calculate the gravitational acceleration\n",
    "g = const.G * const.M_earth/(const.R_earth)**2\n",
    "g"
   ]
  },
  {
   "cell_type": "code",
   "execution_count": 75,
   "metadata": {},
   "outputs": [
    {
     "data": {
      "text/latex": [
       "$9.80665 \\; \\mathrm{\\frac{m}{s^{2}}}$"
      ],
      "text/plain": [
       "<<class 'astropy.constants.codata2018.CODATA2018'> name='Standard acceleration of gravity' value=9.80665 uncertainty=0.0 unit='m / s2' reference='CODATA 2018'>"
      ]
     },
     "execution_count": 75,
     "metadata": {},
     "output_type": "execute_result"
    }
   ],
   "source": [
    "const.g0"
   ]
  },
  {
   "cell_type": "code",
   "execution_count": 73,
   "metadata": {},
   "outputs": [
    {
     "data": {
      "text/latex": [
       "$0.0097983981 \\; \\mathrm{\\frac{km}{s^{2}}}$"
      ],
      "text/plain": [
       "<Quantity 0.0097984 km / s2>"
      ]
     },
     "metadata": {},
     "output_type": "display_data"
    }
   ],
   "source": [
    "# 组合单位转换\n",
    "display(g.to(units.km / units.s**2))"
   ]
  },
  {
   "cell_type": "markdown",
   "metadata": {},
   "source": []
  },
  {
   "cell_type": "code",
   "execution_count": 81,
   "metadata": {},
   "outputs": [
    {
     "data": {
      "text/plain": [
       "<Time object: scale='utc' format='datetime' value=2024-01-20 16:09:07.946963>"
      ]
     },
     "execution_count": 81,
     "metadata": {},
     "output_type": "execute_result"
    }
   ],
   "source": [
    "# time\n",
    "from astropy.time import Time\n",
    "t=Time.now()\n",
    "t"
   ]
  },
  {
   "cell_type": "markdown",
   "metadata": {},
   "source": [
    "<video width=\"640\" height=\"360\" controls>\n",
    "  <source src=\"[your_video_url.mp4](https://www.bilibili.com/video/BV1CY4y1t7TZ?p=18&vd_source=e83f6243963f730d4d2994d23f588a9d)\">\n",
    "  Your browser does not support the video tag.\n",
    "</video>"
   ]
  }
 ],
 "metadata": {
  "kernelspec": {
   "display_name": "base",
   "language": "python",
   "name": "python3"
  },
  "language_info": {
   "codemirror_mode": {
    "name": "ipython",
    "version": 3
   },
   "file_extension": ".py",
   "mimetype": "text/x-python",
   "name": "python",
   "nbconvert_exporter": "python",
   "pygments_lexer": "ipython3",
   "version": "3.9.13"
  }
 },
 "nbformat": 4,
 "nbformat_minor": 2
}
